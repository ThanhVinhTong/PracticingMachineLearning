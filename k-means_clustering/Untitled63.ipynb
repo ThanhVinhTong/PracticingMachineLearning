{
  "nbformat": 4,
  "nbformat_minor": 0,
  "metadata": {
    "colab": {
      "name": "Untitled63.ipynb",
      "provenance": [],
      "collapsed_sections": []
    },
    "kernelspec": {
      "name": "python3",
      "display_name": "Python 3"
    },
    "language_info": {
      "name": "python"
    }
  },
  "cells": [
    {
      "cell_type": "code",
      "execution_count": 98,
      "metadata": {
        "id": "uH3f7oh_iU2o"
      },
      "outputs": [],
      "source": [
        "import numpy as np\n",
        "N = 1000\n",
        "M = 5\n",
        "X = np.random.rand(1000, 5)"
      ]
    },
    {
      "cell_type": "code",
      "source": [
        "import matplotlib.pyplot as plt"
      ],
      "metadata": {
        "id": "5_du1wuTksJ-"
      },
      "execution_count": 100,
      "outputs": []
    },
    {
      "cell_type": "code",
      "source": [
        "n_cluster = 10"
      ],
      "metadata": {
        "id": "5CYFZ1RCiotW"
      },
      "execution_count": 101,
      "outputs": []
    },
    {
      "cell_type": "code",
      "source": [
        "iters = 10"
      ],
      "metadata": {
        "id": "Q4avtVaqjm4u"
      },
      "execution_count": 102,
      "outputs": []
    },
    {
      "cell_type": "code",
      "source": [
        "losses = []\n",
        "n_clusters = []\n",
        "for K in range(2, n_cluster):\n",
        "  n_clusters.append(K)\n",
        "  new_X = X.copy()\n",
        "  for i in range(K - 1):\n",
        "    X = np.hstack((X, new_X))\n",
        "  centers = np.random.rand(K, 5)\n",
        "  X = X.reshape(X.shape[0:1] + centers.shape)\n",
        "  labels = None\n",
        "  for iter in range(iters):\n",
        "      distances = np.sum((X - centers)**2, axis = 2)\n",
        "      labels = np.argmin(distances, axis = 1)\n",
        "      for i in range(K):\n",
        "        centers[i] = np.mean(new_X[labels == i], axis = 0)\n",
        "  loss = 0\n",
        "  for i in range(K):\n",
        "    loss += np.sum((new_X[labels == i] - centers[i])**2)\n",
        "  loss = loss/new_X.shape[0]\n",
        "  losses.append(loss)\n",
        "  X = new_X\n",
        "plt.plot(n_clusters, losses)\n",
        "plt.show()"
      ],
      "metadata": {
        "colab": {
          "base_uri": "https://localhost:8080/",
          "height": 265
        },
        "id": "aC6tS01Rjxq2",
        "outputId": "c4537417-cf9a-4045-8161-a46546de1313"
      },
      "execution_count": 103,
      "outputs": [
        {
          "output_type": "display_data",
          "data": {
            "text/plain": [
              "<Figure size 432x288 with 1 Axes>"
            ],
            "image/png": "[encoded data removed]"
          },
          "metadata": {
            "needs_background": "light"
          }
        }
      ]
    },
    {
      "cell_type": "code",
      "source": [
        "X.shape"
      ],
      "metadata": {
        "colab": {
          "base_uri": "https://localhost:8080/"
        },
        "id": "khPNeQYfne7W",
        "outputId": "d36710e8-5f1c-4e90-d944-dbdc07425f39"
      },
      "execution_count": 104,
      "outputs": [
        {
          "output_type": "execute_result",
          "data": {
            "text/plain": [
              "(1000, 5)"
            ]
          },
          "metadata": {},
          "execution_count": 104
        }
      ]
    }
  ]
}